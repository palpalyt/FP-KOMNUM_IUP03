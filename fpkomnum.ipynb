{
  "metadata": {
    "kernelspec": {
      "name": "python",
      "display_name": "Python (Pyodide)",
      "language": "python"
    },
    "language_info": {
      "codemirror_mode": {
        "name": "python",
        "version": 3
      },
      "file_extension": ".py",
      "mimetype": "text/x-python",
      "name": "python",
      "nbconvert_exporter": "python",
      "pygments_lexer": "ipython3",
      "version": "3.8"
    }
  },
  "nbformat_minor": 5,
  "nbformat": 4,
  "cells": [
    {
      "id": "fe55883a-6887-43dd-9498-5333a51799e2",
      "cell_type": "code",
      "source": "import numpy as np\n\na0 = 0\na1 = 0\na2 = 0\n\na0 = round(((-44+3*a1+4*a2)/2), 2)\nprint(f\"1st iteration a0: {a0}\")\n\na1 = round(((78+3*a0+2*a2)/9), 2)\nprint(f\"1st iteration a1: {a1}\")\n\na2 = round(((21+5*a0+1*a1)/3), 2)\nprint(f\"1st iteration a2: {a2}\")\n\na0 = round(((-44+3*a1+4*a2)/2), 2)\nprint(f\"2nd iteration a0: {a0}\")\n\na1 = round(((78+3*a0+2*a2)/9), 2)\nprint(f\"2nd iteration a1: {a1}\")\n\na2 = round(((21+5*a0+1*a1)/3), 2)\nprint(f\"2nd iteration a2: {a2}\")",
      "metadata": {
        "trusted": true
      },
      "outputs": [
        {
          "name": "stdout",
          "output_type": "stream",
          "text": "1st iteration a0: -22.0\n1st iteration a1: 1.33\n1st iteration a2: -29.22\n2nd iteration a0: -78.44\n2nd iteration a1: -23.97\n2nd iteration a2: -131.72\n"
        }
      ],
      "execution_count": 1
    },
    {
      "id": "3761fc7a-c850-4175-806d-9a96f367f6d0",
      "cell_type": "code",
      "source": "",
      "metadata": {
        "trusted": true
      },
      "outputs": [],
      "execution_count": null
    }
  ]
}